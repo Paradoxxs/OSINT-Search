{
 "cells": [
  {
   "cell_type": "code",
   "execution_count": 16,
   "metadata": {},
   "outputs": [
    {
     "name": "stdout",
     "output_type": "stream",
     "text": [
      "20 mailsec.protonmail.ch.\n",
      "10 mail.protonmail.ch.\n",
      "ns74.domaincontrol.com.\n",
      "ns73.domaincontrol.com.\n",
      "\"protonmail-verification=44b8c405ae749a5c4af833204ff7c86aee5f1f52\"\n",
      "\"v=spf1 include:_spf.protonmail.ch mx ~all\"\n"
     ]
    }
   ],
   "source": [
    "import dns.resolver\n",
    "domain = \"adamtilmar.com\"\n",
    "type = [\"MX\",\"ns\",\"TXT\"]\n",
    "\n",
    "for record in type:\n",
    "    answers = dns.resolver.resolve(domain,record)\n",
    "    for rdata in answers:\n",
    "        print(rdata)\n"
   ]
  },
  {
   "cell_type": "code",
   "execution_count": null,
   "metadata": {},
   "outputs": [],
   "source": []
  }
 ],
 "metadata": {
  "kernelspec": {
   "display_name": "Python 3",
   "language": "python",
   "name": "python3"
  },
  "language_info": {
   "codemirror_mode": {
    "name": "ipython",
    "version": 3
   },
   "file_extension": ".py",
   "mimetype": "text/x-python",
   "name": "python",
   "nbconvert_exporter": "python",
   "pygments_lexer": "ipython3",
   "version": "3.12.1"
  }
 },
 "nbformat": 4,
 "nbformat_minor": 2
}
