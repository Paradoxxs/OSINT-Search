{
 "cells": [
  {
   "cell_type": "code",
   "execution_count": 16,
   "metadata": {},
   "outputs": [
    {
     "name": "stdout",
     "output_type": "stream",
     "text": [
      "20 mailsec.protonmail.ch.\n",
      "10 mail.protonmail.ch.\n",
      "ns74.domaincontrol.com.\n",
      "ns73.domaincontrol.com.\n",
      "\"protonmail-verification=44b8c405ae749a5c4af833204ff7c86aee5f1f52\"\n",
      "\"v=spf1 include:_spf.protonmail.ch mx ~all\"\n"
     ]
    }
   ],
   "source": [
    "import dns.resolver\n",
    "domain = \"adamtilmar.com\"\n",
    "type = [\"MX\",\"ns\",\"TXT\"]\n",
    "\n",
    "for record in type:\n",
    "    answers = dns.resolver.resolve(domain,record)\n",
    "    for rdata in answers:\n",
    "        print(rdata)\n"
   ]
  },
  {
   "cell_type": "code",
   "execution_count": 4,
   "metadata": {},
   "outputs": [
    {
     "name": "stdout",
     "output_type": "stream",
     "text": [
      "{'Fastly', 'GitHub Pages', 'Varnish', 'Ruby', 'Jekyll', 'Ruby on Rails'}\n"
     ]
    }
   ],
   "source": [
    "from Wappalyzer import Wappalyzer, WebPage\n",
    "\n",
    "import warnings\n",
    "\n",
    "warnings.filterwarnings(\n",
    "    \"ignore\",\n",
    "    message=\"\"\"Caught 'unbalanced parenthesis at position 119' compiling regex\"\"\",\n",
    "    category=UserWarning,\n",
    ")\n",
    "\n",
    "\n",
    "class wappalyzer:\n",
    "\n",
    "    meta = {\"description\": \"Extract technologies from web responses\",}\n",
    "    wappalyzer = Wappalyzer.latest()\n",
    "\n",
    "\n",
    "    def query(self, domain):\n",
    "        page = WebPage.new_from_url(domain)\n",
    "        return self.wappalyzer.analyze(page)\n",
    "\n",
    "temp = wappalyzer().query(\"https://adamtilmar.com\")\n",
    "print(temp)"
   ]
  }
 ],
 "metadata": {
  "kernelspec": {
   "display_name": "Python 3",
   "language": "python",
   "name": "python3"
  },
  "language_info": {
   "codemirror_mode": {
    "name": "ipython",
    "version": 3
   },
   "file_extension": ".py",
   "mimetype": "text/x-python",
   "name": "python",
   "nbconvert_exporter": "python",
   "pygments_lexer": "ipython3",
   "version": "3.12.2"
  }
 },
 "nbformat": 4,
 "nbformat_minor": 2
}
